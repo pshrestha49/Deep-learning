{
 "cells": [
  {
   "cell_type": "markdown",
   "id": "73973166",
   "metadata": {},
   "source": [
    "# Project 2: Implementing a Simple Convolutional Neural Network (CNN)\n",
    "\n",
    "## Introduction\n",
    "\n",
    "In this project, you will design, implement, and evaluate a simple Convolutional Neural Network (CNN) from scratch. This will involve building the entire pipeline, from data preprocessing to model training and evaluation.\n",
    "\n",
    "## Objectives\n",
    "\n",
    "1. Set up TensorFlow or PyTorch environments. You are free to choose your preferred DL platform.\n",
    "2. Use GPU for training.\n",
    "3. Create a data loader and implement data preprocessing where needed.\n",
    "4. Design a Convolutional Neural Network.\n",
    "5. Train and evaluate your model. Make sure to clearly show loss and accuracy values. Include visualizations too.\n",
    "6. Answer assessment questions.\n",
    "\n",
    "## Dataset\n",
    "\n",
    "You are free to choose any dataset for this project!  (Note, however, that your work should not simply mirror models already covered in the course, nor published works of others.) Kaggle would be a good source to look for datasets. Below are some examples that we have already seen, which would be of an appropriate nature; you might tackle these (with your own approach), or choose a different dataset:\n",
    "- CIFAR-10: A dataset of 60,000 32x32 color images in 10 classes with 6,000 images per class.\n",
    "- Fashion-MNIST: A dataset of 70,000 28x28 grayscale images of 10 different clothing caregories.\n"
   ]
  },
  {
   "cell_type": "markdown",
   "metadata": {},
   "source": [
    "# CIFAR‑10 Classification with PyTorch\n",
    "This notebook walks through training a Convolutional Neural Network (CNN) on the CIFAR‑10 dataset (60 000 32×32 RGB images across 10 classes). "
   ]
  },
  {
   "cell_type": "markdown",
   "metadata": {},
   "source": [
    "## 1. Setup & Imports\n",
    "We start by importing PyTorch, `torchvision` for the dataset and transforms, and `tqdm` for progress bars."
   ]
  },
  {
   "cell_type": "code",
   "execution_count": 8,
   "metadata": {},
   "outputs": [],
   "source": [
    "import torch\n",
    "import torch.nn as nn\n",
    "import torch.optim as optim\n",
    "from torch.utils.data import DataLoader\n",
    "from torchvision import datasets, transforms\n",
    "from tqdm import tqdm\n",
    "import matplotlib.pyplot as plt"
   ]
  },
  {
   "cell_type": "markdown",
   "metadata": {},
   "source": [
    "## 2. Data Preparation\n",
    "* **Transforms** – We normalize pixel values to `[-1, 1]` and apply random horizontal flips for slight augmentation."
   ]
  },
  {
   "cell_type": "code",
   "execution_count": null,
   "metadata": {},
   "outputs": [],
   "source": [
    "transform_train = transforms.Compose([\n",
    "    transforms.RandomHorizontalFlip(),                               #Used Augmentation\n",
    "    transforms.ToTensor(),\n",
    "    transforms.Normalize((0.5, 0.5, 0.5), (0.5, 0.5, 0.5))\n",
    "])\n",
    "\n",
    "transform_test = transforms.Compose([\n",
    "    transforms.RandomHorizontalFlip(),                               #Used Augmentation\n",
    "    transforms.ToTensor(),\n",
    "    transforms.Normalize((0.5, 0.5, 0.5), (0.5, 0.5, 0.5))\n",
    "])\n",
    "\n",
    "train_set = datasets.CIFAR10(root='data', train=True, download=True, transform=transform_train)\n",
    "test_set  = datasets.CIFAR10(root='data', train=False, download=True, transform=transform_test)\n",
    "\n",
    "train_loader = DataLoader(train_set, batch_size=128, shuffle=True, num_workers=2)\n",
    "test_loader  = DataLoader(test_set, batch_size=128, shuffle=False, num_workers=2)"
   ]
  },
  {
   "cell_type": "markdown",
   "metadata": {},
   "source": [
    "## 3. Define the CNN Model\n",
    "A lightweight architecture: three convolutional blocks followed by two fully‑connected layers. Dropout is included to reduce overfitting."
   ]
  },
  {
   "cell_type": "code",
   "execution_count": 10,
   "metadata": {},
   "outputs": [],
   "source": [
    "class CifarCNN(nn.Module):\n",
    "    def __init__(self, dropout=0.25):\n",
    "        super().__init__()\n",
    "        self.features = nn.Sequential(\n",
    "            nn.Conv2d(3, 64, kernel_size=3, padding=1),  # 32×32\n",
    "            nn.ReLU(inplace=True),\n",
    "            nn.BatchNorm2d(64),\n",
    "            nn.MaxPool2d(2, 2),  # 16×16\n",
    "\n",
    "            nn.Conv2d(64, 128, kernel_size=3, padding=1),\n",
    "            nn.ReLU(inplace=True),\n",
    "            nn.BatchNorm2d(128),\n",
    "            nn.MaxPool2d(2, 2),  # 8×8\n",
    "\n",
    "            nn.Conv2d(128, 256, kernel_size=3, padding=1),\n",
    "            nn.ReLU(inplace=True),\n",
    "            nn.BatchNorm2d(256),\n",
    "            nn.MaxPool2d(2, 2),  # 4×4\n",
    "        )\n",
    "        self.classifier = nn.Sequential(\n",
    "            nn.Flatten(),\n",
    "            nn.Dropout(dropout),\n",
    "            nn.Linear(256 * 4 * 4, 512),\n",
    "            nn.ReLU(inplace=True),\n",
    "            nn.Dropout(dropout),\n",
    "            nn.Linear(512, 10)\n",
    "        )\n",
    "\n",
    "    def forward(self, x):\n",
    "        x = self.features(x)\n",
    "        return self.classifier(x)"
   ]
  },
  {
   "cell_type": "markdown",
   "metadata": {},
   "source": [
    "## 4. Training & Evaluation Helpers\n",
    "Utility functions for one training epoch and evaluation on the validation set."
   ]
  },
  {
   "cell_type": "code",
   "execution_count": 11,
   "metadata": {},
   "outputs": [],
   "source": [
    "def train_one_epoch(model, loader, criterion, optimizer, device):\n",
    "    model.train()\n",
    "    running_loss, correct, total = 0.0, 0, 0\n",
    "    for inputs, labels in tqdm(loader, desc='Train', leave=False):\n",
    "        inputs, labels = inputs.to(device), labels.to(device)\n",
    "        optimizer.zero_grad()\n",
    "        outputs = model(inputs)\n",
    "        loss = criterion(outputs, labels)\n",
    "        loss.backward()\n",
    "        optimizer.step()\n",
    "\n",
    "        running_loss += loss.item() * inputs.size(0)\n",
    "        _, preds = outputs.max(1)\n",
    "        correct += preds.eq(labels).sum().item()\n",
    "        total += labels.size(0)\n",
    "    return running_loss / total, correct / total\n",
    "\n",
    "def evaluate(model, loader, criterion, device):\n",
    "    model.eval()\n",
    "    loss_total, correct, total = 0.0, 0, 0\n",
    "    with torch.no_grad():\n",
    "        for inputs, labels in tqdm(loader, desc='Eval', leave=False):\n",
    "            inputs, labels = inputs.to(device), labels.to(device)\n",
    "            outputs = model(inputs)\n",
    "            loss = criterion(outputs, labels)\n",
    "            loss_total += loss.item() * inputs.size(0)\n",
    "            _, preds = outputs.max(1)\n",
    "            correct += preds.eq(labels).sum().item()\n",
    "            total += labels.size(0)\n",
    "    return loss_total / total, correct / total"
   ]
  },
  {
   "cell_type": "markdown",
   "metadata": {},
   "source": [
    "## 5. Training Loop\n",
    "We instantiate the model, loss function, and optimizer, then train for **10 epochs**. Accuracy and loss for both training and test sets are printed each epoch."
   ]
  },
  {
   "cell_type": "code",
   "execution_count": 12,
   "metadata": {},
   "outputs": [
    {
     "name": "stderr",
     "output_type": "stream",
     "text": [
      "Train:   0%|          | 0/391 [00:00<?, ?it/s]"
     ]
    },
    {
     "name": "stderr",
     "output_type": "stream",
     "text": [
      "                                                        \r"
     ]
    },
    {
     "name": "stdout",
     "output_type": "stream",
     "text": [
      "Epoch 1/10 • Train Acc: 58.22% • Test Acc: 70.62%\n"
     ]
    },
    {
     "name": "stderr",
     "output_type": "stream",
     "text": [
      "                                                        \r"
     ]
    },
    {
     "name": "stdout",
     "output_type": "stream",
     "text": [
      "Epoch 2/10 • Train Acc: 72.23% • Test Acc: 73.86%\n"
     ]
    },
    {
     "name": "stderr",
     "output_type": "stream",
     "text": [
      "                                                        \r"
     ]
    },
    {
     "name": "stdout",
     "output_type": "stream",
     "text": [
      "Epoch 3/10 • Train Acc: 76.95% • Test Acc: 78.82%\n"
     ]
    },
    {
     "name": "stderr",
     "output_type": "stream",
     "text": [
      "                                                        \r"
     ]
    },
    {
     "name": "stdout",
     "output_type": "stream",
     "text": [
      "Epoch 4/10 • Train Acc: 79.89% • Test Acc: 79.53%\n"
     ]
    },
    {
     "name": "stderr",
     "output_type": "stream",
     "text": [
      "                                                        \r"
     ]
    },
    {
     "name": "stdout",
     "output_type": "stream",
     "text": [
      "Epoch 5/10 • Train Acc: 82.33% • Test Acc: 81.17%\n"
     ]
    },
    {
     "name": "stderr",
     "output_type": "stream",
     "text": [
      "                                                        \r"
     ]
    },
    {
     "name": "stdout",
     "output_type": "stream",
     "text": [
      "Epoch 6/10 • Train Acc: 84.10% • Test Acc: 80.97%\n"
     ]
    },
    {
     "name": "stderr",
     "output_type": "stream",
     "text": [
      "                                                        \r"
     ]
    },
    {
     "name": "stdout",
     "output_type": "stream",
     "text": [
      "Epoch 7/10 • Train Acc: 85.90% • Test Acc: 81.92%\n"
     ]
    },
    {
     "name": "stderr",
     "output_type": "stream",
     "text": [
      "                                                        \r"
     ]
    },
    {
     "name": "stdout",
     "output_type": "stream",
     "text": [
      "Epoch 8/10 • Train Acc: 86.84% • Test Acc: 82.13%\n"
     ]
    },
    {
     "name": "stderr",
     "output_type": "stream",
     "text": [
      "                                                        \r"
     ]
    },
    {
     "name": "stdout",
     "output_type": "stream",
     "text": [
      "Epoch 9/10 • Train Acc: 88.08% • Test Acc: 82.10%\n"
     ]
    },
    {
     "name": "stderr",
     "output_type": "stream",
     "text": [
      "                                                        "
     ]
    },
    {
     "name": "stdout",
     "output_type": "stream",
     "text": [
      "Epoch 10/10 • Train Acc: 89.33% • Test Acc: 82.60%\n"
     ]
    },
    {
     "name": "stderr",
     "output_type": "stream",
     "text": [
      "\r"
     ]
    }
   ],
   "source": [
    "device = torch.device('cuda' if torch.cuda.is_available() else 'cpu')\n",
    "model = CifarCNN().to(device)\n",
    "criterion = nn.CrossEntropyLoss()\n",
    "optimizer = optim.Adam(model.parameters(), lr=1e-3)\n",
    "\n",
    "EPOCHS = 10\n",
    "history = {'train_acc': [], 'test_acc': []}\n",
    "\n",
    "for epoch in range(1, EPOCHS + 1):\n",
    "    train_loss, train_acc = train_one_epoch(model, train_loader, criterion, optimizer, device)\n",
    "    test_loss, test_acc = evaluate(model, test_loader, criterion, device)\n",
    "    history['train_acc'].append(train_acc)\n",
    "    history['test_acc'].append(test_acc)\n",
    "    print(f\"Epoch {epoch}/{EPOCHS} • Train Acc: {train_acc*100:.2f}% • Test Acc: {test_acc*100:.2f}%\")"
   ]
  },
  {
   "cell_type": "markdown",
   "metadata": {},
   "source": [
    "### Accuracy Trend"
   ]
  },
  {
   "cell_type": "code",
   "execution_count": 13,
   "metadata": {},
   "outputs": [
    {
     "data": {
      "image/png": "[encoded data removed]",
      "text/plain": [
       "<Figure size 640x480 with 1 Axes>"
      ]
     },
     "metadata": {},
     "output_type": "display_data"
    }
   ],
   "source": [
    "plt.plot(range(1, EPOCHS + 1), [a*100 for a in history['train_acc']], label='Train')\n",
    "plt.plot(range(1, EPOCHS + 1), [a*100 for a in history['test_acc']], label='Test')\n",
    "plt.xlabel('Epoch')\n",
    "plt.ylabel('Accuracy (%)')\n",
    "plt.title('Training vs Test Accuracy')\n",
    "plt.legend()\n",
    "plt.grid(True)\n",
    "plt.show()"
   ]
  },
  {
   "cell_type": "markdown",
   "metadata": {},
   "source": [
    "## 6. Save the Trained Model\n",
    "Persist the best-performing model weights so you can reload them later."
   ]
  },
  {
   "cell_type": "code",
   "execution_count": 14,
   "metadata": {},
   "outputs": [
    {
     "name": "stdout",
     "output_type": "stream",
     "text": [
      "Model saved to cifar10_cnn.pth\n"
     ]
    }
   ],
   "source": [
    "torch.save(model.state_dict(), 'cifar10_cnn.pth')\n",
    "print('Model saved to cifar10_cnn.pth')"
   ]
  },
  {
   "cell_type": "markdown",
   "id": "221f1aae",
   "metadata": {},
   "source": [
    "---\n",
    "### Questions\n",
    "Answer the following questions in detail.\n",
    "\n",
    "1. What is a Convolutional Neural Network (CNN)? Describe its key components and how they differ from those in a fully connected neural network.\n",
    "\n",
    "A CNN is a deep-learning architecture designed to learn spatial hierarchies of features from grid-like data (e.g., images, audio spectrograms).Components of Convolutional Neural Network (CNN) are as follows:\n",
    "a) Convolutional layer - Convolutional layer Sliding through the input with learnable filters (kernels) and generating feature maps and identifying local patterns (edges, textures, and so on). In FC layers all neurons are connected to all input units parameters.\n",
    "\n",
    "b) Activation Function - Activation Adds non-linearity, usually using some type of activation (e.g. ReLU) to allow the network to represent complex functions. Identical to FC nets except applied on an element level to feature maps.\n",
    "\n",
    "c) Pooling - Pooling / Sub-sampling Down-samples feature maps such that they have reduced spatial resolution to be invariant to small translations as well as to reduce computations. There is no direct legal analogy in normal FC nets.\n",
    "d) Batch Normalization - Normalization (Batch/Layer Norm) helps training to be stable, it keeps activations within sane numbers. Likewise FC nets, except feature maps are normalised in place of the channel and spatial dims.\n",
    "\n",
    "e) Fully Connected head - Fully connected head The high level features are flattened after several conv blocks, and input into FC layers to do final classification/regression. The same in concept, only this time they observe abstractions of features instead of naked pixels.\n",
    "\n",
    "\n",
    "2. Explain the purpose of the convolution operation in a CNN. How does the use of different filter sizes affect the feature maps?\n",
    "\n",
    "It provides local pattern extraction with weight sharing.    The kernels finds at just 9 neighbouring pixels, learning detectors like edges,, corner, color blobs. Because the same kernel slides across the whole image, the network recognises a pattern wherever it occurs. \n",
    "a) 1X1 - Mixes information across channels but not space; great for dimensionality reduction.\n",
    "b) 3X3 - Captures fine-grained local patterns while keeping parameters low. Two stacked 3 × 3 layers give an effective 5 × 5 receptive field.\n",
    "c) 5X5, 7X7 - Capture broader context but add parameters and FLOPs. Often replaced by stacks of 3 × 3s or dilated convolutions for efficiency.\n",
    "\n",
    "\n",
    "\n",
    "\n",
    "3. What is the purpose of a pooling layer in a CNN, and how does it contribute to the network’s performance?\n",
    "\n",
    "Purpose of a pooling layer are as follows:\n",
    "- Reduces wdth and height so later layers operate on smaller maps.\n",
    "- Max-pool keeps the strongest activation withina window, making the eexact feature position less critical.\n",
    "- It helps in regulatization by applying fewer activation which leads to smaller subsequen layers and less risk of overfitting.\n",
    "\n",
    "\n",
    "4. Why are activation functions important in CNNs? Compare the use of ReLU (Rectified Linear Unit) with other activation functions.\n",
    "\n",
    "Activation functions are important in CNN to introduce non-linearity which can learn complex pattern and without it convolutions would not work in a linear to transformations.\n",
    "\n",
    "-Sigmoid functions - Sigmoid will produce the values in 0 to 1  and hence can be used in binary classification tasks. The problem with it though, is that it can be affected by the vanishing gradient problem, particularly in deep networks, whereby gradients can become extremely small during backpropagation, and can make learning slow.\n",
    "\n",
    "- Tanh - Just like sigmoid, tanh is also sigmoidal in shape with the output usually around -1 to 1. Although, unlike sigmoid, it is impervious to negative inputs, it still suffers the same problem of the vanishing gradient, especially in deep networks.\n",
    "\n",
    "- ReLU - ReLU solves the vanishing gradient issue by simply giving the input directly as output in case of non-negative input, and zero in case otherwise. This is on the one hand enables quicker training than sigmoid and tanh, particularly in the case of deep networks. Nonetheless, ReLU are vulnerable to what is known as the problem of dying ReLU whereby neurons may become idle and cease learning when they always produce the value zero.\n",
    "\n",
    "\n",
    "\n",
    "\n",
    "5. Describe the process of training a CNN. What are some common challenges faced during training?\n",
    "\n",
    "The Process involves following processes:\n",
    "1. Data Preparation - \n",
    "- Collecting and Labelling-\n",
    "Get a pertinent dataset and provide every picture with the password of a specific type (e.g., cat or dog).\n",
    "- Preprocessing:\n",
    "Image preparation consists of converting image to CNN format by resizing, normalization of images and possible augmenting using rotations, flips. This is able to enhance model performance and avoid overfitting.\n",
    "- Splitting:\n",
    "Split the dataset into test, validation and training sets. The training set is meant to be used to train the model, the validation set to observe performance through training and the test set to evaluate the final model.\n",
    "\n",
    "2. Model Definition:\n",
    "- Architecture: CNN architecture. It includes the selection of the number, type of the layers (convolutional, pooling, fully connected, etc.).\n",
    "- Convolutional Layers: The convolutional layers utilize filters to bring out features on the image that is input.\n",
    "- Pooling Layers: These are layers that bring about a reduction of spatial dimensions of the feature maps.\n",
    "- Activation Function: The concept of non-linearity is achieved by implementing non-linear functions such as ReLU.\n",
    "- Fully Connected Layers: These are the layers that are usually at the end of the network and it is the job of the layers to make the prediction by use of features which have been extracted.\n",
    "3. Training:\n",
    "- Optimizer: Select an optimization method (e.g., Adam, SGD) to adjust weights concerning the model.\n",
    "- Loss Function: Choose a loss (e.g. cross-entropy) that would quantify the discrepancies between the prediction produced by a model and the real labels.\n",
    "- Training Loop: Go over the training data, passing batches of images into the CNN.\n",
    "- Forward Pass: The CNN is fed with imageries in order to make the predictions.\n",
    "- Backpropagation: Compute the gradient of the loss function with regard to the weights of the model.\n",
    "- Weight Update: Update the weights of the model based upon the optimizer and the obtained gradients.\n",
    "4. Evaluation:\n",
    "- Validation Set:\n",
    "Track the model performances on the validation set when training. This aids in identification of overfitting and fine tuning hyper parameters.\n",
    "- Test Set:\n",
    "After the completion of training, we can measure the performance of the model on unseen test set to evaluate the capability of generalization.\n",
    "\n",
    "Some Challenges are as follows :\n",
    "- Vanishing / exploding gradients - fixed by ReLU, batch-norm, scrupulous weight forms, and closing connections.\n",
    "\n",
    "- Overfitting Overfitting was addressed through data augmentation, dropout, weight decay and use of larger datasets.\n",
    "\n",
    "- Imbalance of classes - weighted loss, focal loss or resampling.\n",
    "\n",
    "- Computational; it is memory/FLOPs demanding; it can be addressed with mixed-precision training, model shrinking, pruning, and quantisation.\n",
    "\n",
    "\n",
    "6. What are some common evaluation metrics used to assess the performance of a CNN on a classification task?\n",
    "- Accuracy – % of correctly classified samples (most common).\n",
    "\n",
    "- Top-k accuracy – Especially for datasets with many classes (e.g., ImageNet) — did the correct label appear in the top-k predictions?\n",
    "\n",
    "- Precision / Recall / F1-score – Useful when classes are imbalanced.\n",
    "\n",
    "- Confusion matrix – Visualises per-class performance.\n",
    "\n",
    "- AUC-ROC / PR-AUC – For tasks where you treat each class as a one-vs-rest problem.\n",
    "\n",
    "\n",
    "\n",
    "7. How does data augmentation help improve the performance of a CNN? Provide examples of common data augmentation techniques.\n",
    "\n",
    "Augmentation synthetically expands the training set by applying label-preserving transformations, helping the model generalise to real-world variations and reducing overfitting.\n",
    "Some of the common techniques to augment data are as follows:\n",
    "- Random crop/resize, horizontal or vertical flip, small rotations, translations, perspective warp, cutout.\n",
    "- Colour jitter (brightness, contrast, saturation, hue), Gaussian noise, blurring, sharpening.\n"
   ]
  },
  {
   "cell_type": "code",
   "execution_count": null,
   "id": "75ef7907",
   "metadata": {},
   "outputs": [],
   "source": []
  }
 ],
 "metadata": {
  "kernelspec": {
   "display_name": "gvenv",
   "language": "python",
   "name": "python3"
  },
  "language_info": {
   "codemirror_mode": {
    "name": "ipython",
    "version": 3
   },
   "file_extension": ".py",
   "mimetype": "text/x-python",
   "name": "python",
   "nbconvert_exporter": "python",
   "pygments_lexer": "ipython3",
   "version": "3.10.18"
  }
 },
 "nbformat": 4,
 "nbformat_minor": 5
}
